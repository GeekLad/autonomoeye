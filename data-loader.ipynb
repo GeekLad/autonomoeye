{
 "cells": [
  {
   "cell_type": "markdown",
   "metadata": {},
   "source": [
    "# Waymo Data Downloader"
   ]
  },
  {
   "attachments": {},
   "cell_type": "markdown",
   "metadata": {},
   "source": [
    "## Imports"
   ]
  },
  {
   "cell_type": "code",
   "execution_count": null,
   "metadata": {},
   "outputs": [],
   "source": [
    "import autonomoeye\n",
    "import google.auth\n",
    "import tensorflow as tf"
   ]
  },
  {
   "attachments": {},
   "cell_type": "markdown",
   "metadata": {},
   "source": [
    "## Google Authentication"
   ]
  },
  {
   "cell_type": "code",
   "execution_count": null,
   "metadata": {},
   "outputs": [],
   "source": [
    "# Setup credentials\n",
    "!gcloud auth application-default login\n",
    "credentials, _ = google.auth.default()"
   ]
  },
  {
   "cell_type": "code",
   "execution_count": null,
   "metadata": {},
   "outputs": [],
   "source": [
    "all_annotation_uris = autonomoeye.get_annotation_uris()\n",
    "all_training_uris = autonomoeye.get_all_waymo_training_segment_uris()\n",
    "processed_segments = [autonomoeye.get_segment_name(uri) for uri in all_annotation_uris]\n",
    "all_segments = [autonomoeye.get_segment_name(uri) for uri in all_training_uris]\n",
    "missing_segments = [uri for uri in all_segments if uri not in processed_segments]"
   ]
  },
  {
   "cell_type": "code",
   "execution_count": null,
   "metadata": {},
   "outputs": [],
   "source": [
    "# Test loading the first file\n",
    "missing_segment_uri = f\"gs://waymo_open_dataset_v_1_4_1/individual_files/training/segment-{missing_segments[0]}_with_camera_labels.tfrecord\"\n",
    "print(f\"Processing {missing_segment_uri}\")\n",
    "dataset = tf.data.TFRecordDataset(missing_segment_uri, compression_type='')\n",
    "\n",
    "# initialize annnotations dictionary\n",
    "annotations = autonomoeye.initialize_annotations_dict()\n",
    "\n",
    "# process images and annotations in frame and return metadata\n",
    "metadata = autonomoeye.process_segment(dataset, annotations, \"waymo-processed-images\", \"deleteme\")"
   ]
  }
 ],
 "metadata": {
  "kernelspec": {
   "display_name": "Python 3",
   "language": "python",
   "name": "python3"
  },
  "language_info": {
   "codemirror_mode": {
    "name": "ipython",
    "version": 3
   },
   "file_extension": ".py",
   "mimetype": "text/x-python",
   "name": "python",
   "nbconvert_exporter": "python",
   "pygments_lexer": "ipython3",
   "version": "3.8.10"
  },
  "orig_nbformat": 4
 },
 "nbformat": 4,
 "nbformat_minor": 2
}
